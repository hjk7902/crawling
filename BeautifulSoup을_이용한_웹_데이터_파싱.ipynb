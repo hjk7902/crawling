{
  "cells": [
    {
      "cell_type": "markdown",
      "metadata": {
        "id": "view-in-github",
        "colab_type": "text"
      },
      "source": [
        "<a href=\"https://colab.research.google.com/github/hjk7902/crawling/blob/main/BeautifulSoup%EC%9D%84_%EC%9D%B4%EC%9A%A9%ED%95%9C_%EC%9B%B9_%EB%8D%B0%EC%9D%B4%ED%84%B0_%ED%8C%8C%EC%8B%B1.ipynb\" target=\"_parent\"><img src=\"https://colab.research.google.com/assets/colab-badge.svg\" alt=\"Open In Colab\"/></a>"
      ]
    },
    {
      "cell_type": "code",
      "execution_count": 1,
      "metadata": {
        "id": "FqR8fIJkYRgt"
      },
      "outputs": [],
      "source": [
        "res_content = \"\"\"<html>\n",
        "<head><title>HTML Sample</title>\n",
        "</head>\n",
        "<body>\n",
        "    <h1>Hello CSS</h1>\n",
        "    <div id='subset'>선택자</div>\n",
        "    <div class='contents'>선택자를 어떻게 작성하느냐에 따라 <span>다른 <b>요소가 반환</b></span> 됩니다.</div>\n",
        "    <div>CSS 선택자는 다양한 곳에서 <b>활용</b>됩니다.</div>\n",
        "</body>\n",
        "</html>\n",
        "\"\"\""
      ]
    },
    {
      "cell_type": "code",
      "execution_count": 2,
      "metadata": {
        "id": "ZTTs3WenY-o9"
      },
      "outputs": [],
      "source": [
        "from bs4 import BeautifulSoup"
      ]
    },
    {
      "cell_type": "code",
      "execution_count": 3,
      "metadata": {
        "id": "hfyhn6-WZB3C"
      },
      "outputs": [],
      "source": [
        "soup = BeautifulSoup(res_content, 'html.parser')"
      ]
    },
    {
      "cell_type": "code",
      "execution_count": 4,
      "metadata": {
        "colab": {
          "base_uri": "https://localhost:8080/"
        },
        "id": "PyQ3uK3CKhMu",
        "outputId": "9bc40675-51b1-4496-d233-16b46ebe45cc"
      },
      "outputs": [
        {
          "output_type": "execute_result",
          "data": {
            "text/plain": [
              "<html>\n",
              "<head><title>HTML Sample</title>\n",
              "</head>\n",
              "<body>\n",
              "<h1>Hello CSS</h1>\n",
              "<div id=\"subset\">선택자</div>\n",
              "<div class=\"contents\">선택자를 어떻게 작성하느냐에 따라 <span>다른 <b>요소가 반환</b></span> 됩니다.</div>\n",
              "<div>CSS 선택자는 다양한 곳에서 <b>활용</b>됩니다.</div>\n",
              "</body>\n",
              "</html>"
            ]
          },
          "metadata": {},
          "execution_count": 4
        }
      ],
      "source": [
        "soup"
      ]
    },
    {
      "cell_type": "code",
      "execution_count": 5,
      "metadata": {
        "colab": {
          "base_uri": "https://localhost:8080/"
        },
        "id": "kH4IrcAjZHWC",
        "outputId": "1243d223-c0b7-466b-f084-6435066d8d73"
      },
      "outputs": [
        {
          "output_type": "stream",
          "name": "stdout",
          "text": [
            "선택자\n",
            "선택자를 어떻게 작성하느냐에 따라 다른 요소가 반환 됩니다.\n",
            "CSS 선택자는 다양한 곳에서 활용됩니다.\n"
          ]
        }
      ],
      "source": [
        "# #-> id, . -> class, > -> child, blank -> , [] -> attribute\n",
        "el = soup.select('div')\n",
        "# print(el)\n",
        "for e in el:\n",
        "    print(e.text)"
      ]
    },
    {
      "cell_type": "code",
      "source": [
        ""
      ],
      "metadata": {
        "id": "WMuFARgU6vL6"
      },
      "execution_count": null,
      "outputs": []
    }
  ],
  "metadata": {
    "colab": {
      "collapsed_sections": [],
      "name": "BeautifulSoup을 이용한 웹 데이터 파싱.ipynb",
      "provenance": [],
      "authorship_tag": "ABX9TyPreI8iL3oMcNXWpKdGCNiz",
      "include_colab_link": true
    },
    "kernelspec": {
      "display_name": "Python 3 (ipykernel)",
      "language": "python",
      "name": "python3"
    },
    "language_info": {
      "codemirror_mode": {
        "name": "ipython",
        "version": 3
      },
      "file_extension": ".py",
      "mimetype": "text/x-python",
      "name": "python",
      "nbconvert_exporter": "python",
      "pygments_lexer": "ipython3",
      "version": "3.9.7"
    },
    "toc": {
      "base_numbering": 1,
      "nav_menu": {},
      "number_sections": true,
      "sideBar": true,
      "skip_h1_title": false,
      "title_cell": "Table of Contents",
      "title_sidebar": "Contents",
      "toc_cell": false,
      "toc_position": {},
      "toc_section_display": true,
      "toc_window_display": false
    }
  },
  "nbformat": 4,
  "nbformat_minor": 0
}